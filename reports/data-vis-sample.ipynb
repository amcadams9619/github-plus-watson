{
 "cells": [
  {
   "cell_type": "code",
   "execution_count": 264,
   "metadata": {
    "collapsed": true
   },
   "outputs": [],
   "source": [
    "import os\n",
    "#For the sake of cleanliness, ignore warnings in the notebook\n",
    "import warnings\n",
    "warnings.filterwarnings('ignore')"
   ]
  },
  {
   "cell_type": "code",
   "execution_count": 265,
   "metadata": {
    "collapsed": false
   },
   "outputs": [
    {
     "data": {
      "text/plain": [
       "['.ipynb_checkpoints',\n",
       " 'closed_issue_comments.csv',\n",
       " 'closed_merged_prs.csv',\n",
       " 'data-vis-sample.ipynb',\n",
       " 'issue_assignees.csv',\n",
       " 'issue_contrib.csv',\n",
       " 'open_closed_merged_prs.csv',\n",
       " 'positive_negative_pr_contributions.csv',\n",
       " 'repo_maintenance.csv',\n",
       " 'sentiment_analysis.csv']"
      ]
     },
     "execution_count": 265,
     "metadata": {},
     "output_type": "execute_result"
    }
   ],
   "source": [
    "os.listdir()"
   ]
  },
  {
   "cell_type": "code",
   "execution_count": 267,
   "metadata": {
    "collapsed": false
   },
   "outputs": [],
   "source": [
    "import pandas as pd\n",
    "import numpy as np\n",
    "import matplotlib as plt\n",
    "import seaborn as sns\n",
    "\n",
    "pd.set_option('max_columns', 50)\n",
    "#Inline imaging\n",
    "%matplotlib inline"
   ]
  },
  {
   "cell_type": "code",
   "execution_count": 268,
   "metadata": {
    "collapsed": false
   },
   "outputs": [
    {
     "data": {
      "text/html": [
       "<div>\n",
       "<table border=\"1\" class=\"dataframe\">\n",
       "  <thead>\n",
       "    <tr style=\"text-align: right;\">\n",
       "      <th></th>\n",
       "      <th>net_negative</th>\n",
       "      <th>net_equal</th>\n",
       "      <th>deletions</th>\n",
       "      <th>additions</th>\n",
       "      <th>number</th>\n",
       "      <th>net_positive</th>\n",
       "    </tr>\n",
       "  </thead>\n",
       "  <tbody>\n",
       "    <tr>\n",
       "      <th>0</th>\n",
       "      <td>0</td>\n",
       "      <td>0</td>\n",
       "      <td>1</td>\n",
       "      <td>1</td>\n",
       "      <td>3391</td>\n",
       "      <td>0</td>\n",
       "    </tr>\n",
       "    <tr>\n",
       "      <th>1</th>\n",
       "      <td>0</td>\n",
       "      <td>0</td>\n",
       "      <td>2</td>\n",
       "      <td>3</td>\n",
       "      <td>3390</td>\n",
       "      <td>1</td>\n",
       "    </tr>\n",
       "    <tr>\n",
       "      <th>2</th>\n",
       "      <td>0</td>\n",
       "      <td>0</td>\n",
       "      <td>1</td>\n",
       "      <td>3</td>\n",
       "      <td>3388</td>\n",
       "      <td>2</td>\n",
       "    </tr>\n",
       "    <tr>\n",
       "      <th>3</th>\n",
       "      <td>0</td>\n",
       "      <td>0</td>\n",
       "      <td>0</td>\n",
       "      <td>36</td>\n",
       "      <td>3387</td>\n",
       "      <td>36</td>\n",
       "    </tr>\n",
       "    <tr>\n",
       "      <th>4</th>\n",
       "      <td>0</td>\n",
       "      <td>0</td>\n",
       "      <td>1</td>\n",
       "      <td>1</td>\n",
       "      <td>3386</td>\n",
       "      <td>0</td>\n",
       "    </tr>\n",
       "  </tbody>\n",
       "</table>\n",
       "</div>"
      ],
      "text/plain": [
       "   net_negative  net_equal  deletions  additions  number  net_positive\n",
       "0             0          0          1          1    3391             0\n",
       "1             0          0          2          3    3390             1\n",
       "2             0          0          1          3    3388             2\n",
       "3             0          0          0         36    3387            36\n",
       "4             0          0          1          1    3386             0"
      ]
     },
     "execution_count": 268,
     "metadata": {},
     "output_type": "execute_result"
    }
   ],
   "source": [
    "df = pd.read_csv('positive_negative_pr_contributions.csv', delimiter='|')\n",
    "df.head()"
   ]
  },
  {
   "cell_type": "code",
   "execution_count": 269,
   "metadata": {
    "collapsed": false
   },
   "outputs": [
    {
     "data": {
      "text/html": [
       "<div>\n",
       "<table border=\"1\" class=\"dataframe\">\n",
       "  <thead>\n",
       "    <tr style=\"text-align: right;\">\n",
       "      <th></th>\n",
       "      <th>net_negative</th>\n",
       "      <th>net_equal</th>\n",
       "      <th>deletions</th>\n",
       "      <th>additions</th>\n",
       "      <th>net_positive</th>\n",
       "    </tr>\n",
       "    <tr>\n",
       "      <th>number</th>\n",
       "      <th></th>\n",
       "      <th></th>\n",
       "      <th></th>\n",
       "      <th></th>\n",
       "      <th></th>\n",
       "    </tr>\n",
       "  </thead>\n",
       "  <tbody>\n",
       "    <tr>\n",
       "      <th>3391</th>\n",
       "      <td>0</td>\n",
       "      <td>0</td>\n",
       "      <td>1</td>\n",
       "      <td>1</td>\n",
       "      <td>0</td>\n",
       "    </tr>\n",
       "    <tr>\n",
       "      <th>3390</th>\n",
       "      <td>0</td>\n",
       "      <td>0</td>\n",
       "      <td>2</td>\n",
       "      <td>3</td>\n",
       "      <td>1</td>\n",
       "    </tr>\n",
       "    <tr>\n",
       "      <th>3388</th>\n",
       "      <td>0</td>\n",
       "      <td>0</td>\n",
       "      <td>1</td>\n",
       "      <td>3</td>\n",
       "      <td>2</td>\n",
       "    </tr>\n",
       "    <tr>\n",
       "      <th>3387</th>\n",
       "      <td>0</td>\n",
       "      <td>0</td>\n",
       "      <td>0</td>\n",
       "      <td>36</td>\n",
       "      <td>36</td>\n",
       "    </tr>\n",
       "    <tr>\n",
       "      <th>3386</th>\n",
       "      <td>0</td>\n",
       "      <td>0</td>\n",
       "      <td>1</td>\n",
       "      <td>1</td>\n",
       "      <td>0</td>\n",
       "    </tr>\n",
       "  </tbody>\n",
       "</table>\n",
       "</div>"
      ],
      "text/plain": [
       "        net_negative  net_equal  deletions  additions  net_positive\n",
       "number                                                             \n",
       "3391               0          0          1          1             0\n",
       "3390               0          0          2          3             1\n",
       "3388               0          0          1          3             2\n",
       "3387               0          0          0         36            36\n",
       "3386               0          0          1          1             0"
      ]
     },
     "execution_count": 269,
     "metadata": {},
     "output_type": "execute_result"
    }
   ],
   "source": [
    "#Define the index. inplace=True maintains the same DataFrame object rather than creating a new one\n",
    "df.set_index('number', inplace=True)\n",
    "df.head()\n",
    "#print(users[(users.age == 40) & (users.sex == 'M')].head(3))\\\n",
    "#print(num_pos)"
   ]
  },
  {
   "cell_type": "code",
   "execution_count": 270,
   "metadata": {
    "collapsed": false
   },
   "outputs": [
    {
     "name": "stdout",
     "output_type": "stream",
     "text": [
      "        net_positive\n",
      "number              \n",
      "3268             172\n",
      "3244              72\n",
      "3227              62\n",
      "3210             109\n",
      "3135              60\n",
      "3112             128\n",
      "3109             113\n",
      "3035             406\n",
      "3017              75\n",
      "2924             129\n",
      "2907              80\n",
      "2839              66\n",
      "2783             238\n",
      "2774             535\n"
     ]
    }
   ],
   "source": [
    "#Take a single column assign to new dataframe object.\n",
    "new_df = df[['net_positive']]\n",
    "#Observe that the DF's value is greater than 50\n",
    "print(new_df[(new_df.net_positive > 50)])\n",
    "#Create a list comprehension\n",
    "nums = [i for i in new_df['net_positive'] if i > 50]"
   ]
  },
  {
   "cell_type": "code",
   "execution_count": 341,
   "metadata": {
    "collapsed": false
   },
   "outputs": [
    {
     "data": {
      "image/png": "[encoded data removed]",
      "text/plain": [
       "<matplotlib.figure.Figure at 0x1240cd080>"
      ]
     },
     "metadata": {},
     "output_type": "display_data"
    }
   ],
   "source": [
    "x_1 = new_df[(new_df.net_positive > 50)]\n",
    "ax1= sns.boxplot(data=x_1, orient=\"v\", notch=False)\n",
    "#Set the xlim to whatever the maximum plus 10 ticks to show any outliers in the set\n",
    "#This data represents when PRs have net positive to the codebase greater than 100 lines of code\n",
    "#ax.set(xlim=(0, max(nums) + 10))\n"
   ]
  },
  {
   "cell_type": "code",
   "execution_count": 289,
   "metadata": {
    "collapsed": false
   },
   "outputs": [
    {
     "data": {
      "image/png": "[encoded data removed]",
      "text/plain": [
       "<matplotlib.figure.Figure at 0x125664fd0>"
      ]
     },
     "metadata": {},
     "output_type": "display_data"
    }
   ],
   "source": [
    "#Jointplot with a linear regression (Defined )\n",
    "g = sns.jointplot(x=df.index, y=(new_df['net_positive']), kind=\"reg\")"
   ]
  },
  {
   "cell_type": "code",
   "execution_count": 293,
   "metadata": {
    "collapsed": false
   },
   "outputs": [],
   "source": [
    "#hexplot\n",
    "\n",
    "df1 = pd.read_csv('issue_assignees.csv', delimiter=\"|\")\n",
    "df1.set_index('assigned_name', inplace=True)"
   ]
  },
  {
   "cell_type": "code",
   "execution_count": 363,
   "metadata": {
    "collapsed": false
   },
   "outputs": [
    {
     "data": {
      "text/plain": [
       "<bound method JointGrid.plot of <seaborn.axisgrid.JointGrid object at 0x1230650b8>>"
      ]
     },
     "execution_count": 363,
     "metadata": {},
     "output_type": "execute_result"
    },
    {
     "data": {
      "image/png": "[encoded data removed]",
      "text/plain": [
       "<matplotlib.figure.Figure at 0x124b7b9b0>"
      ]
     },
     "metadata": {},
     "output_type": "display_data"
    }
   ],
   "source": [
    "ax2 = sns.jointplot(x=new_df.index[:25], y=new_df.net_positive[:25], kind=\"hex\",  ylim=(0,100), size=10)\n",
    "ax2.plot"
   ]
  }
 ],
 "metadata": {
  "anaconda-cloud": {},
  "kernelspec": {
   "display_name": "Python [Root]",
   "language": "python",
   "name": "Python [Root]"
  },
  "language_info": {
   "codemirror_mode": {
    "name": "ipython",
    "version": 3
   },
   "file_extension": ".py",
   "mimetype": "text/x-python",
   "name": "python",
   "nbconvert_exporter": "python",
   "pygments_lexer": "ipython3",
   "version": "3.5.2"
  }
 },
 "nbformat": 4,
 "nbformat_minor": 0
}
